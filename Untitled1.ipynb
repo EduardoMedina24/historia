{
  "nbformat": 4,
  "nbformat_minor": 0,
  "metadata": {
    "colab": {
      "provenance": [],
      "authorship_tag": "ABX9TyNiqMjYBZ7QKTGkPBqgLN0a",
      "include_colab_link": true
    },
    "kernelspec": {
      "name": "python3",
      "display_name": "Python 3"
    },
    "language_info": {
      "name": "python"
    }
  },
  "cells": [
    {
      "cell_type": "markdown",
      "metadata": {
        "id": "view-in-github",
        "colab_type": "text"
      },
      "source": [
        "<a href=\"https://colab.research.google.com/github/EduardoMedina24/historia/blob/main/Untitled1.ipynb\" target=\"_parent\"><img src=\"https://colab.research.google.com/assets/colab-badge.svg\" alt=\"Open In Colab\"/></a>"
      ]
    },
    {
      "cell_type": "code",
      "source": [
        "personajes= [\"Iroman\",\"Thor\", \"Capitan america\"]\n",
        "lugares = [\" en Colombia\",\" en asgar \",\"en Italia\"]\n",
        "acciones = [\" toma cafe con \",\" lucha contra\", \"se toma una foto con\" ]"
      ],
      "metadata": {
        "id": "4x5mjVd2sFim"
      },
      "execution_count": null,
      "outputs": []
    },
    {
      "cell_type": "code",
      "source": [
        "import random\n",
        "\n",
        "\n",
        "personaje = random.choice(personajes)\n",
        "lugar = random.choice(lugares)\n",
        "accion = random.choice(acciones)\n",
        "historia = f\"{personaje} {accion} Super man {lugar}\"\n",
        "print(historia)"
      ],
      "metadata": {
        "colab": {
          "base_uri": "https://localhost:8080/"
        },
        "id": "4RBf5DcMsNSV",
        "outputId": "700f6f3c-59f1-47ff-dff8-6099c70fb27f"
      },
      "execution_count": null,
      "outputs": [
        {
          "output_type": "stream",
          "name": "stdout",
          "text": [
            "Capitan america se toma una foto con Super man en Italia\n"
          ]
        }
      ]
    },
    {
      "cell_type": "code",
      "source": [
        "if personaje == \"Iroman\":\n",
        "   print(\"¡Es hora de una loca historia de Marvel vs DC\")\n",
        "else:\n",
        "    print(\"chao\")\n"
      ],
      "metadata": {
        "id": "2Pi952r4uwZQ",
        "colab": {
          "base_uri": "https://localhost:8080/"
        },
        "outputId": "e29ca566-550e-41f6-bf0c-bb1f85d71a77"
      },
      "execution_count": null,
      "outputs": [
        {
          "output_type": "stream",
          "name": "stdout",
          "text": [
            "chao\n"
          ]
        }
      ]
    },
    {
      "cell_type": "code",
      "source": [
        "import random\n",
        "\n",
        "for i in range(10):\n",
        "    personaje = random.choice(personajes)\n",
        "    lugar = random.choice(lugares)\n",
        "    accion = random.choice(acciones)\n",
        "\n",
        "\n",
        "    historia = f\"{personaje} {accion} Super man {lugar}.\"\n",
        "\n",
        "    print(f\"historia {i+1}: {historia}\")"
      ],
      "metadata": {
        "colab": {
          "base_uri": "https://localhost:8080/"
        },
        "id": "Zx9CmpFO3Nb4",
        "outputId": "2cf23ef7-4b48-45d0-af1d-619556f6c16b"
      },
      "execution_count": null,
      "outputs": [
        {
          "output_type": "stream",
          "name": "stdout",
          "text": [
            "historia 1: Capitan america  lucha contra  en asgar .\n",
            "historia 2: Capitan america  toma cafe con  en Italia.\n",
            "historia 3: Iroman  lucha contra  en asgar .\n",
            "historia 4: Iroman se toma una foto con en Italia.\n",
            "historia 5: Capitan america se toma una foto con  en asgar .\n",
            "historia 6: Thor  toma cafe con   en asgar .\n",
            "historia 7: Capitan america  lucha contra  en asgar .\n",
            "historia 8: Iroman se toma una foto con  en Colombia.\n",
            "historia 9: Capitan america  lucha contra  en Colombia.\n",
            "historia 10: Iroman  toma cafe con   en Colombia.\n"
          ]
        }
      ]
    }
  ]
}